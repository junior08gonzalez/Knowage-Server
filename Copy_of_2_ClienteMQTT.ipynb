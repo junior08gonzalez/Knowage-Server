{
  "nbformat": 4,
  "nbformat_minor": 0,
  "metadata": {
    "colab": {
      "provenance": [],
      "include_colab_link": true
    },
    "kernelspec": {
      "name": "python3",
      "display_name": "Python 3"
    },
    "language_info": {
      "name": "python"
    },
    "widgets": {
      "application/vnd.jupyter.widget-state+json": {
        "894a49a626c7407c96a966427791a5fa": {
          "model_module": "@jupyter-widgets/controls",
          "model_name": "TextModel",
          "model_module_version": "1.5.0",
          "state": {
            "_dom_classes": [],
            "_model_module": "@jupyter-widgets/controls",
            "_model_module_version": "1.5.0",
            "_model_name": "TextModel",
            "_view_count": null,
            "_view_module": "@jupyter-widgets/controls",
            "_view_module_version": "1.5.0",
            "_view_name": "TextView",
            "continuous_update": true,
            "description": "",
            "description_tooltip": null,
            "disabled": true,
            "layout": "IPY_MODEL_f0bb18f14b8c4cab8418a5dfb04a7258",
            "placeholder": "​",
            "style": "IPY_MODEL_fa29fd6c523d4a768394a7442ba6853c",
            "value": "Estado del interruptor: prendido"
          }
        },
        "f0bb18f14b8c4cab8418a5dfb04a7258": {
          "model_module": "@jupyter-widgets/base",
          "model_name": "LayoutModel",
          "model_module_version": "1.2.0",
          "state": {
            "_model_module": "@jupyter-widgets/base",
            "_model_module_version": "1.2.0",
            "_model_name": "LayoutModel",
            "_view_count": null,
            "_view_module": "@jupyter-widgets/base",
            "_view_module_version": "1.2.0",
            "_view_name": "LayoutView",
            "align_content": null,
            "align_items": null,
            "align_self": null,
            "border": null,
            "bottom": null,
            "display": null,
            "flex": null,
            "flex_flow": null,
            "grid_area": null,
            "grid_auto_columns": null,
            "grid_auto_flow": null,
            "grid_auto_rows": null,
            "grid_column": null,
            "grid_gap": null,
            "grid_row": null,
            "grid_template_areas": null,
            "grid_template_columns": null,
            "grid_template_rows": null,
            "height": null,
            "justify_content": null,
            "justify_items": null,
            "left": null,
            "margin": null,
            "max_height": null,
            "max_width": null,
            "min_height": null,
            "min_width": null,
            "object_fit": null,
            "object_position": null,
            "order": null,
            "overflow": null,
            "overflow_x": null,
            "overflow_y": null,
            "padding": null,
            "right": null,
            "top": null,
            "visibility": null,
            "width": null
          }
        },
        "fa29fd6c523d4a768394a7442ba6853c": {
          "model_module": "@jupyter-widgets/controls",
          "model_name": "DescriptionStyleModel",
          "model_module_version": "1.5.0",
          "state": {
            "_model_module": "@jupyter-widgets/controls",
            "_model_module_version": "1.5.0",
            "_model_name": "DescriptionStyleModel",
            "_view_count": null,
            "_view_module": "@jupyter-widgets/base",
            "_view_module_version": "1.2.0",
            "_view_name": "StyleView",
            "description_width": ""
          }
        },
        "50598951e2d64df3b9fb5d4888e0f9bc": {
          "model_module": "@jupyter-widgets/controls",
          "model_name": "ButtonModel",
          "model_module_version": "1.5.0",
          "state": {
            "_dom_classes": [],
            "_model_module": "@jupyter-widgets/controls",
            "_model_module_version": "1.5.0",
            "_model_name": "ButtonModel",
            "_view_count": null,
            "_view_module": "@jupyter-widgets/controls",
            "_view_module_version": "1.5.0",
            "_view_name": "ButtonView",
            "button_style": "",
            "description": "Prendido",
            "disabled": false,
            "icon": "",
            "layout": "IPY_MODEL_b61f4b4f6cda4dd29af7105c2848fffd",
            "style": "IPY_MODEL_540718a433534d599ad7294e4895bbd2",
            "tooltip": ""
          }
        },
        "b61f4b4f6cda4dd29af7105c2848fffd": {
          "model_module": "@jupyter-widgets/base",
          "model_name": "LayoutModel",
          "model_module_version": "1.2.0",
          "state": {
            "_model_module": "@jupyter-widgets/base",
            "_model_module_version": "1.2.0",
            "_model_name": "LayoutModel",
            "_view_count": null,
            "_view_module": "@jupyter-widgets/base",
            "_view_module_version": "1.2.0",
            "_view_name": "LayoutView",
            "align_content": null,
            "align_items": null,
            "align_self": null,
            "border": null,
            "bottom": null,
            "display": null,
            "flex": null,
            "flex_flow": null,
            "grid_area": null,
            "grid_auto_columns": null,
            "grid_auto_flow": null,
            "grid_auto_rows": null,
            "grid_column": null,
            "grid_gap": null,
            "grid_row": null,
            "grid_template_areas": null,
            "grid_template_columns": null,
            "grid_template_rows": null,
            "height": null,
            "justify_content": null,
            "justify_items": null,
            "left": null,
            "margin": null,
            "max_height": null,
            "max_width": null,
            "min_height": null,
            "min_width": null,
            "object_fit": null,
            "object_position": null,
            "order": null,
            "overflow": null,
            "overflow_x": null,
            "overflow_y": null,
            "padding": null,
            "right": null,
            "top": null,
            "visibility": null,
            "width": null
          }
        },
        "540718a433534d599ad7294e4895bbd2": {
          "model_module": "@jupyter-widgets/controls",
          "model_name": "ButtonStyleModel",
          "model_module_version": "1.5.0",
          "state": {
            "_model_module": "@jupyter-widgets/controls",
            "_model_module_version": "1.5.0",
            "_model_name": "ButtonStyleModel",
            "_view_count": null,
            "_view_module": "@jupyter-widgets/base",
            "_view_module_version": "1.2.0",
            "_view_name": "StyleView",
            "button_color": null,
            "font_weight": ""
          }
        },
        "48372f050a424e6e8e8d725074debdfd": {
          "model_module": "@jupyter-widgets/controls",
          "model_name": "ButtonModel",
          "model_module_version": "1.5.0",
          "state": {
            "_dom_classes": [],
            "_model_module": "@jupyter-widgets/controls",
            "_model_module_version": "1.5.0",
            "_model_name": "ButtonModel",
            "_view_count": null,
            "_view_module": "@jupyter-widgets/controls",
            "_view_module_version": "1.5.0",
            "_view_name": "ButtonView",
            "button_style": "",
            "description": "Apagado",
            "disabled": false,
            "icon": "",
            "layout": "IPY_MODEL_c1930e3b9cec48949ad7ff367989dbe8",
            "style": "IPY_MODEL_a8644c24bd2a4d89a3e47707d7191320",
            "tooltip": ""
          }
        },
        "c1930e3b9cec48949ad7ff367989dbe8": {
          "model_module": "@jupyter-widgets/base",
          "model_name": "LayoutModel",
          "model_module_version": "1.2.0",
          "state": {
            "_model_module": "@jupyter-widgets/base",
            "_model_module_version": "1.2.0",
            "_model_name": "LayoutModel",
            "_view_count": null,
            "_view_module": "@jupyter-widgets/base",
            "_view_module_version": "1.2.0",
            "_view_name": "LayoutView",
            "align_content": null,
            "align_items": null,
            "align_self": null,
            "border": null,
            "bottom": null,
            "display": null,
            "flex": null,
            "flex_flow": null,
            "grid_area": null,
            "grid_auto_columns": null,
            "grid_auto_flow": null,
            "grid_auto_rows": null,
            "grid_column": null,
            "grid_gap": null,
            "grid_row": null,
            "grid_template_areas": null,
            "grid_template_columns": null,
            "grid_template_rows": null,
            "height": null,
            "justify_content": null,
            "justify_items": null,
            "left": null,
            "margin": null,
            "max_height": null,
            "max_width": null,
            "min_height": null,
            "min_width": null,
            "object_fit": null,
            "object_position": null,
            "order": null,
            "overflow": null,
            "overflow_x": null,
            "overflow_y": null,
            "padding": null,
            "right": null,
            "top": null,
            "visibility": null,
            "width": null
          }
        },
        "a8644c24bd2a4d89a3e47707d7191320": {
          "model_module": "@jupyter-widgets/controls",
          "model_name": "ButtonStyleModel",
          "model_module_version": "1.5.0",
          "state": {
            "_model_module": "@jupyter-widgets/controls",
            "_model_module_version": "1.5.0",
            "_model_name": "ButtonStyleModel",
            "_view_count": null,
            "_view_module": "@jupyter-widgets/base",
            "_view_module_version": "1.2.0",
            "_view_name": "StyleView",
            "button_color": null,
            "font_weight": ""
          }
        }
      }
    }
  },
  "cells": [
    {
      "cell_type": "markdown",
      "metadata": {
        "id": "view-in-github",
        "colab_type": "text"
      },
      "source": [
        "<a href=\"https://colab.research.google.com/github/junior08gonzalez/Knowage-Server/blob/master/Copy_of_2_ClienteMQTT.ipynb\" target=\"_parent\"><img src=\"https://colab.research.google.com/assets/colab-badge.svg\" alt=\"Open In Colab\"/></a>"
      ]
    },
    {
      "cell_type": "code",
      "execution_count": null,
      "metadata": {
        "id": "rdFwMGew4DpB",
        "colab": {
          "base_uri": "https://localhost:8080/"
        },
        "outputId": "f894a4b0-c37e-4577-a5aa-1e7e5fe4a848"
      },
      "outputs": [
        {
          "output_type": "stream",
          "name": "stdout",
          "text": [
            "Looking in indexes: https://pypi.org/simple, https://us-python.pkg.dev/colab-wheels/public/simple/\n",
            "Requirement already satisfied: paho-mqtt in /usr/local/lib/python3.10/dist-packages (1.6.1)\n"
          ]
        }
      ],
      "source": [
        "!pip install paho-mqtt ## INSTALA LA LIBERIA paho, DEABE EJECUTAR ESTE PRIMERO\n"
      ]
    },
    {
      "cell_type": "code",
      "source": [
        "## IMPORTAR LAS LIBRERIAS PARA USAR\n",
        "import paho.mqtt.client as mqtt\n",
        "import ipywidgets as widgets\n",
        "from IPython.display import display\n",
        "\n",
        "broker_address = \"test.mosquitto.org\"\n",
        "\n",
        "def on_connect(client, userdata, flags, rc):\n",
        "    print(\"Conectado al broker\")\n",
        "    client.subscribe(\"interruptor/estado\")\n",
        "\n",
        "def on_message(client, userdata, message):\n",
        "    estado_interruptor = str(message.payload.decode())\n",
        "    estado_texto.value = \"Estado del interruptor: \" + estado_interruptor\n",
        "\n",
        "def enviar_prendido(btn):\n",
        "    client.publish(\"interruptor/estado\", \"prendido\")\n",
        "\n",
        "def enviar_apagado(btn):\n",
        "    client.publish(\"interruptor/estado\", \"apagado\")\n",
        "\n",
        "client = mqtt.Client()\n",
        "client.on_connect = on_connect\n",
        "client.on_message = on_message\n",
        "client.connect(broker_address, 1883, 60)\n",
        "\n",
        "# Crear los cuadros de texto y los botones en el cliente\n",
        "estado_texto = widgets.Text(value=\"Estado del interruptor: \", disabled=True)\n",
        "boton_prendido = widgets.Button(description=\"Prendido\")\n",
        "boton_prendido.on_click(enviar_prendido)\n",
        "boton_apagado = widgets.Button(description=\"Apagado\")\n",
        "boton_apagado.on_click(enviar_apagado)\n",
        "\n",
        "# Mostrar los cuadros de texto y los botones en el cliente\n",
        "display(estado_texto)\n",
        "display(boton_prendido)\n",
        "display(boton_apagado)\n",
        "\n",
        "client.loop_start()\n"
      ],
      "metadata": {
        "id": "-FxVBAtnBtIR",
        "colab": {
          "base_uri": "https://localhost:8080/",
          "height": 113,
          "referenced_widgets": [
            "894a49a626c7407c96a966427791a5fa",
            "f0bb18f14b8c4cab8418a5dfb04a7258",
            "fa29fd6c523d4a768394a7442ba6853c",
            "50598951e2d64df3b9fb5d4888e0f9bc",
            "b61f4b4f6cda4dd29af7105c2848fffd",
            "540718a433534d599ad7294e4895bbd2",
            "48372f050a424e6e8e8d725074debdfd",
            "c1930e3b9cec48949ad7ff367989dbe8",
            "a8644c24bd2a4d89a3e47707d7191320"
          ]
        },
        "outputId": "2c4cd8e3-4c1a-4d8e-eae6-4706898d2bbe"
      },
      "execution_count": null,
      "outputs": [
        {
          "output_type": "display_data",
          "data": {
            "text/plain": [
              "Text(value='Estado del interruptor: ', disabled=True)"
            ],
            "application/vnd.jupyter.widget-view+json": {
              "version_major": 2,
              "version_minor": 0,
              "model_id": "894a49a626c7407c96a966427791a5fa"
            }
          },
          "metadata": {}
        },
        {
          "output_type": "display_data",
          "data": {
            "text/plain": [
              "Button(description='Prendido', style=ButtonStyle())"
            ],
            "application/vnd.jupyter.widget-view+json": {
              "version_major": 2,
              "version_minor": 0,
              "model_id": "50598951e2d64df3b9fb5d4888e0f9bc"
            }
          },
          "metadata": {}
        },
        {
          "output_type": "display_data",
          "data": {
            "text/plain": [
              "Button(description='Apagado', style=ButtonStyle())"
            ],
            "application/vnd.jupyter.widget-view+json": {
              "version_major": 2,
              "version_minor": 0,
              "model_id": "48372f050a424e6e8e8d725074debdfd"
            }
          },
          "metadata": {}
        }
      ]
    }
  ]
}